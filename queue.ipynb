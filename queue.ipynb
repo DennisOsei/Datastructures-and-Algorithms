{
 "cells": [
  {
   "cell_type": "code",
   "execution_count": 7,
   "metadata": {},
   "outputs": [],
   "source": [
    "class Queue:\n",
    "    \"\"\"Queue implementation where the `front` is the end of the list\n",
    "    and the `rear` is the beginning of the list.[rear, 0, 1, front]\"\"\"\n",
    "\n",
    "    def __init__(self):\n",
    "        \"\"\"Creates new queue\"\"\"\n",
    "        self.items = []\n",
    "\n",
    "    def __str__(self):\n",
    "        \"\"\"String representation of queue\"\"\"\n",
    "        return str(self.items)\n",
    "\n",
    "    def enqueue(self, item):\n",
    "        \"\"\"Add an item to the queue\"\"\"\n",
    "        self.items.insert(0, item)\n",
    "\n",
    "    def dequeue(self):\n",
    "        \"\"\"Remove an item from the queue\"\"\"\n",
    "        return self.items.pop()\n",
    "\n",
    "    def is_empty(self):\n",
    "        \"\"\"Check if the queue is empty\"\"\"\n",
    "        return self.items == []\n",
    "\n",
    "    def size(self):\n",
    "        \"\"\"Return the number of items in the queue\"\"\"\n",
    "        return len(self.items)"
   ]
  },
  {
   "cell_type": "code",
   "execution_count": 9,
   "metadata": {},
   "outputs": [
    {
     "name": "stdout",
     "output_type": "stream",
     "text": [
      "True\n",
      "4\n",
      "2\n",
      "[True, 'dog']\n"
     ]
    }
   ],
   "source": [
    "q = Queue()\n",
    "print(q.is_empty())\n",
    "q.enqueue(4)\n",
    "q.enqueue(\"dog\")\n",
    "q.enqueue(True)\n",
    "print(q.dequeue())\n",
    "print(q.size())\n",
    "print(q)\n"
   ]
  },
  {
   "cell_type": "code",
   "execution_count": 11,
   "metadata": {},
   "outputs": [
    {
     "data": {
      "text/plain": [
       "'\\n# In Hot Pocket children line up in a circle and pass an item from neighbor to neighbor as\\n# fast as they can. At a certain point in the game, the action is stopped and the child who \\n# has the item (the potato) is removed from the circle. Play continues until only one child \\n# is left.\\n\\n'"
      ]
     },
     "execution_count": 11,
     "metadata": {},
     "output_type": "execute_result"
    }
   ],
   "source": [
    "\"\"\"\n",
    "# In Hot Pocket children line up in a circle and pass an item from neighbor to neighbor as\n",
    "# fast as they can. At a certain point in the game, the action is stopped and the child who \n",
    "# has the item (the potato) is removed from the circle. Play continues until only one child \n",
    "# is left.\n",
    "\n",
    "\"\"\""
   ]
  },
  {
   "cell_type": "code",
   "execution_count": 12,
   "metadata": {},
   "outputs": [
    {
     "name": "stdout",
     "output_type": "stream",
     "text": [
      "Susan\n"
     ]
    }
   ],
   "source": [
    "# the person in the front of the queue is the one with the hot potato\n",
    "# we will take in the names and the max number the potato is to be tossed in one round.\n",
    "# Add list of names to queue\n",
    "# dequeue a person and enqueue them to pass the potato to the next person.\n",
    "# When queue is left with one person return it.\n",
    "\n",
    "\n",
    "def hot_potato(name_list, num):\n",
    "    sim_queue = Queue()\n",
    "    for name in name_list:\n",
    "        sim_queue.enqueue(name)\n",
    "\n",
    "    while sim_queue.size() > 1:\n",
    "        for i in range(num):\n",
    "            sim_queue.enqueue(sim_queue.dequeue())\n",
    "\n",
    "        sim_queue.dequeue()\n",
    "\n",
    "    return sim_queue.dequeue()\n",
    "\n",
    "\n",
    "print(hot_potato([\"Bill\", \"David\", \"Susan\", \"Jane\", \"Kent\", \"Brad\"], 7))"
   ]
  },
  {
   "cell_type": "code",
   "execution_count": null,
   "metadata": {},
   "outputs": [],
   "source": []
  }
 ],
 "metadata": {
  "interpreter": {
   "hash": "7e1998ff7f8aa20ada591c520b972326324e5ea05489af9e422744c7c09f6dad"
  },
  "kernelspec": {
   "display_name": "Python 3.10.1 64-bit",
   "language": "python",
   "name": "python3"
  },
  "language_info": {
   "codemirror_mode": {
    "name": "ipython",
    "version": 3
   },
   "file_extension": ".py",
   "mimetype": "text/x-python",
   "name": "python",
   "nbconvert_exporter": "python",
   "pygments_lexer": "ipython3",
   "version": "3.10.1"
  },
  "orig_nbformat": 4
 },
 "nbformat": 4,
 "nbformat_minor": 2
}
