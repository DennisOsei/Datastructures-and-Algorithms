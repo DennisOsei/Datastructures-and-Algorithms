{
 "cells": [
  {
   "cell_type": "code",
   "execution_count": 9,
   "metadata": {},
   "outputs": [],
   "source": [
    "# Begin with an interval covering the whole array.\n",
    "# If the value of the search key is less than the item in the middle of the interval, narrow the interval to the lower half.\n",
    "# Otherwise, narrow it to the upper half.\n",
    "# Repeatedly check until the value is found or the interval is empty\n",
    "\n",
    "\n",
    "\n",
    "#[0, 1, 2, 8, 13, 17, 19, 32, 42]\n",
    "# 0  1  2  3  4   5   6   7   8\n",
    "# f                           l"
   ]
  },
  {
   "cell_type": "code",
   "execution_count": 10,
   "metadata": {},
   "outputs": [
    {
     "name": "stdout",
     "output_type": "stream",
     "text": [
      "True\n",
      "True\n",
      "False\n",
      "False\n",
      "True\n",
      "True\n"
     ]
    }
   ],
   "source": [
    "# Time complexity is O(log n)\n",
    "\n",
    "def binary_search(a_list, item):\n",
    "    first = 0\n",
    "    last = len(a_list)-1\n",
    "\n",
    "    while first <= last:\n",
    "        midpoint = (first + last)// 2\n",
    "        if a_list[midpoint] == item:\n",
    "            return True\n",
    "        elif item > a_list[midpoint]:\n",
    "            first = midpoint + 1\n",
    "        else:\n",
    "            last = midpoint - 1\n",
    "\n",
    "    return False\n",
    "\n",
    "\n",
    "test_list = [0, 1, 2, 8, 13, 17, 19, 32, 42]\n",
    "\n",
    "print(binary_search(test_list, 32))\n",
    "print(binary_search(test_list, 2))\n",
    "print(binary_search(test_list, 50))\n",
    "print(binary_search(test_list, 9))\n",
    "print(binary_search(test_list, 0))\n",
    "print(binary_search(test_list, 42))"
   ]
  },
  {
   "cell_type": "code",
   "execution_count": null,
   "metadata": {},
   "outputs": [],
   "source": []
  },
  {
   "cell_type": "code",
   "execution_count": 11,
   "metadata": {},
   "outputs": [
    {
     "name": "stdout",
     "output_type": "stream",
     "text": [
      "False\n",
      "False\n",
      "True\n",
      "True\n",
      "True\n",
      "True\n"
     ]
    }
   ],
   "source": [
    "def recursive_binary_search(a_list, item):\n",
    "    if len(a_list) == 0:\n",
    "        return False\n",
    "    else:\n",
    "        midpoint = (len(a_list)) // 2\n",
    "        if a_list[midpoint] == item:\n",
    "            return True\n",
    "        else:\n",
    "            if item > a_list[midpoint]:\n",
    "                return recursive_binary_search(a_list[midpoint+1:], item)\n",
    "            else:\n",
    "                return recursive_binary_search(a_list[:midpoint], item)\n",
    "\n",
    "\n",
    "test_list = [0, 1, 2, 8, 13, 17, 19, 32, 42]\n",
    "print(recursive_binary_search(test_list, 3))\n",
    "print(recursive_binary_search(test_list, 50))\n",
    "print(recursive_binary_search(test_list, 13))\n",
    "print(recursive_binary_search(test_list, 42))\n",
    "print(recursive_binary_search(test_list, 2))\n",
    "print(recursive_binary_search(test_list, 0))"
   ]
  },
  {
   "cell_type": "code",
   "execution_count": 12,
   "metadata": {},
   "outputs": [],
   "source": [
    "\n",
    "# Converting from exponential form to logarithmic form\n",
    "# b^x = y  ===>  logb y = x\n",
    "# 2^4 = 16 ===> log2 16 = 4\n",
    "# 2^k = N  ===> log2 N = k"
   ]
  },
  {
   "cell_type": "code",
   "execution_count": 13,
   "metadata": {},
   "outputs": [
    {
     "data": {
      "text/plain": [
       "'\\nTime complexity of Binary Search\\n\\nInitial length - N\\n\\nIteration 1 - N/2\\n\\nIteration 2 - N/4 i.e. N/2^2\\n\\nIteration 3 - N/8 i.e. N/2^3\\n\\n...\\n\\nIteration k - N/2^k\\n\\nSince the final length of the array is 1,\\n\\nN/2^k = 1\\n\\nRearranging the terms, we get\\n\\nN = 2^k\\n\\nTaking the logarithm\\n\\nk = log N\\n\\nWhere log refers to log to the base 2. Therefore, our algorithm has the time complexity O(log N). \\nThis fact is often stated as: binary search runs in logarithmic time. You can verify that the space complexity of binary search is O(1).\\n'"
      ]
     },
     "execution_count": 13,
     "metadata": {},
     "output_type": "execute_result"
    }
   ],
   "source": [
    "\"\"\"\n",
    "Time complexity of Binary Search\n",
    "\n",
    "Initial length - N\n",
    "\n",
    "Iteration 1 - N/2\n",
    "\n",
    "Iteration 2 - N/4 i.e. N/2^2\n",
    "\n",
    "Iteration 3 - N/8 i.e. N/2^3\n",
    "\n",
    "...\n",
    "\n",
    "Iteration k - N/2^k\n",
    "\n",
    "Since the final length of the array is 1,\n",
    "\n",
    "N/2^k = 1\n",
    "\n",
    "Rearranging the terms, we get\n",
    "\n",
    "N = 2^k\n",
    "\n",
    "Taking the logarithm\n",
    "\n",
    "k = log N\n",
    "\n",
    "Where log refers to log to the base 2. Therefore, our algorithm has the time complexity O(log N). \n",
    "This fact is often stated as: binary search runs in logarithmic time. You can verify that the space complexity of binary search is O(1).\n",
    "\"\"\""
   ]
  }
 ],
 "metadata": {
  "interpreter": {
   "hash": "7e1998ff7f8aa20ada591c520b972326324e5ea05489af9e422744c7c09f6dad"
  },
  "kernelspec": {
   "display_name": "Python 3.10.1 64-bit",
   "language": "python",
   "name": "python3"
  },
  "language_info": {
   "codemirror_mode": {
    "name": "ipython",
    "version": 3
   },
   "file_extension": ".py",
   "mimetype": "text/x-python",
   "name": "python",
   "nbconvert_exporter": "python",
   "pygments_lexer": "ipython3",
   "version": "3.10.1"
  },
  "orig_nbformat": 4
 },
 "nbformat": 4,
 "nbformat_minor": 2
}
