{
 "cells": [
  {
   "cell_type": "code",
   "execution_count": 1,
   "metadata": {},
   "outputs": [
    {
     "data": {
      "text/plain": [
       "'\\nThe bubble sort makes multiple passes through a list. It compares adjacent items and exchanges those that are out of order. \\nEach pass through the list places the next largest value in its proper place. In essence, each item “bubbles” up to the location where it belongs.\\n'"
      ]
     },
     "execution_count": 1,
     "metadata": {},
     "output_type": "execute_result"
    }
   ],
   "source": [
    "\"\"\"\n",
    "The bubble sort makes multiple passes(full iteration exchanging items in a list) through a list. It compares adjacent items and exchanges those that are out of order. \n",
    "Each pass through the list places the next largest value in its proper place. In essence, each item “bubbles” up to the location where it belongs.\n",
    "Time complexity for bubble sort is O(n^2)\n",
    "Space complexity for bubble sort is O(1)\n",
    "\"\"\""
   ]
  },
  {
   "cell_type": "code",
   "execution_count": 1,
   "metadata": {},
   "outputs": [
    {
     "name": "stdout",
     "output_type": "stream",
     "text": [
      "[17, 20, 26, 31, 44, 54, 55, 77, 93]\n"
     ]
    }
   ],
   "source": [
    "#num = [32, 64, 76, 23, 45, 42]\n",
    "#j      5    4   3  2    1  0\n",
    "#i      0    1   2  3    4  5\n",
    "\n",
    "\n",
    "def bubble_sort(a_list):\n",
    "    for i in range(len(a_list)-1, 0, -1):  # reduces the iteration in each pass by 1.\n",
    "        for j in range(i):\n",
    "            if a_list[j] > a_list[j + 1]:   # compare the pairs\n",
    "                a_list[j], a_list[j + 1] = a_list[j + 1], a_list[j]  \n",
    "\n",
    "\n",
    "test_list = [54, 26, 93, 17, 77, 31, 44, 55, 20]\n",
    "bubble_sort(test_list)\n",
    "print(test_list)"
   ]
  },
  {
   "cell_type": "code",
   "execution_count": 2,
   "metadata": {},
   "outputs": [
    {
     "name": "stdout",
     "output_type": "stream",
     "text": [
      "[20, 30, 40, 90, 50, 60, 70, 80, 100, 110]\n"
     ]
    }
   ],
   "source": [
    "def bubble_sort(nums):\n",
    "    # Create a copy of the list, to avoid changing it\n",
    "    nums = list(nums)\n",
    "    \n",
    "    # 4. Repeat the process n-1 times\n",
    "    for _ in range(len(nums) - 1):\n",
    "        \n",
    "        # 1. Iterate over the array (except last element)\n",
    "        for i in range(len(nums) - 1):\n",
    "            \n",
    "            # 2. Compare the number with  \n",
    "            if nums[i] > nums[i+1]:\n",
    "                \n",
    "                # 3. Swap the two elements\n",
    "                nums[i], nums[i+1] = nums[i+1], nums[i]\n",
    "    \n",
    "    # Return the sorted list\n",
    "    return nums\n",
    "\n",
    "nums = [20, 30, 40, 90, 50, 60, 70, 80, 100, 110]\n",
    "bubble_sort(nums)\n",
    "print(nums)"
   ]
  },
  {
   "cell_type": "code",
   "execution_count": null,
   "metadata": {},
   "outputs": [],
   "source": []
  }
 ],
 "metadata": {
  "interpreter": {
   "hash": "7e1998ff7f8aa20ada591c520b972326324e5ea05489af9e422744c7c09f6dad"
  },
  "kernelspec": {
   "display_name": "Python 3.10.1 64-bit",
   "language": "python",
   "name": "python3"
  },
  "language_info": {
   "codemirror_mode": {
    "name": "ipython",
    "version": 3
   },
   "file_extension": ".py",
   "mimetype": "text/x-python",
   "name": "python",
   "nbconvert_exporter": "python",
   "pygments_lexer": "ipython3",
   "version": "3.10.1"
  },
  "orig_nbformat": 4
 },
 "nbformat": 4,
 "nbformat_minor": 2
}
