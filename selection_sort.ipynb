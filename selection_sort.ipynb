{
 "cells": [
  {
   "cell_type": "code",
   "execution_count": 34,
   "metadata": {},
   "outputs": [],
   "source": [
    "# Time complexity of Selection Sort is O(n)"
   ]
  },
  {
   "cell_type": "code",
   "execution_count": 35,
   "metadata": {},
   "outputs": [
    {
     "name": "stdout",
     "output_type": "stream",
     "text": [
      "[17, 20, 26, 31, 44, 54, 55, 77, 93]\n"
     ]
    }
   ],
   "source": [
    "def selection_sort(a_list):\n",
    "    for i in range(len(a_list)):\n",
    "        # last element in the list\n",
    "        min_idx = len(a_list) - 1\n",
    "        # shortens the list\n",
    "        for j in range(i, len(a_list)):\n",
    "            # look for the smallest element\n",
    "            if a_list[j] < a_list[min_idx]:\n",
    "                # switch to the minimum element\n",
    "                min_idx = j\n",
    "                # if min_idx == i, it means we've reached the last element and don't need to swap.\n",
    "        if min_idx != i:\n",
    "                # Swap the found minimum element with first element\n",
    "            a_list[min_idx], a_list[i] = a_list[i], a_list[min_idx]\n",
    "\n",
    "\n",
    "a_list = [54, 26, 93, 17, 77, 31, 44, 55, 20]\n",
    "selection_sort(a_list)\n",
    "print(a_list)"
   ]
  },
  {
   "cell_type": "code",
   "execution_count": 36,
   "metadata": {},
   "outputs": [
    {
     "name": "stdout",
     "output_type": "stream",
     "text": [
      "[93, 77, 55, 54, 44, 31, 26, 20, 17]\n"
     ]
    }
   ],
   "source": [
    "def desc_selection_sort(a_list):\n",
    "    for i in range(len(a_list)):\n",
    "        max_idx = len(a_list) - 1\n",
    "        for j in range(i, len(a_list)):\n",
    "            if a_list[j] > a_list[max_idx]:\n",
    "                max_idx = j\n",
    "\n",
    "        if max_idx != i:\n",
    "            a_list[max_idx], a_list[i] = a_list[i], a_list[max_idx]\n",
    "\n",
    "\n",
    "a_list = [54, 26, 93, 17, 77, 31, 44, 55, 20]\n",
    "desc_selection_sort(a_list)\n",
    "print(a_list)"
   ]
  },
  {
   "cell_type": "code",
   "execution_count": 37,
   "metadata": {},
   "outputs": [
    {
     "name": "stdout",
     "output_type": "stream",
     "text": [
      "Sorted list ascending order: [2, 3, 4, 4, 5, 6, 7, 8]\n",
      "Sorted list descending order: [8, 7, 6, 5, 4, 4, 3, 2]\n"
     ]
    }
   ],
   "source": [
    "def ascendingSelectionSort(MyList):\n",
    "    for i in range(len(MyList) - 1):\n",
    "        minimum = i\n",
    "        for j in range( i + 1, len(MyList)):\n",
    "            if(MyList[j] < MyList[minimum]):\n",
    "                minimum = j\n",
    "        if(minimum != i):\n",
    "            MyList[i], MyList[minimum] = MyList[minimum], MyList[i]\n",
    "    return MyList\n",
    "\n",
    "def descendingSelectionSort(MyList):\n",
    "    for i in range(len(MyList) - 1):\n",
    "        minimum = i\n",
    "        for j in range(len(MyList)-1,i,-1):\n",
    "            if(MyList[j] > MyList[minimum]):\n",
    "                minimum = j\n",
    "        if(minimum != i):\n",
    "            MyList[i], MyList[minimum] = MyList[minimum], MyList[i]\n",
    "    return MyList\n",
    "listItems = [4, 5, 3, 7, 4, 6, 2, 8]\n",
    "\n",
    "print('Sorted list ascending order:', ascendingSelectionSort(listItems))\n",
    "print('Sorted list descending order:', descendingSelectionSort(listItems))"
   ]
  },
  {
   "cell_type": "code",
   "execution_count": 38,
   "metadata": {},
   "outputs": [
    {
     "name": "stdout",
     "output_type": "stream",
     "text": [
      "[11, 12, 22, 25, 64]\n"
     ]
    }
   ],
   "source": [
    "def selection_sort(mylist):\n",
    "# Traverse through all array elements\n",
    "    for i in range(len(mylist)):\n",
    "        \n",
    "        # Find the minimum element in remaining \n",
    "        # unsorted array\n",
    "        min_idx = i\n",
    "        for j in range(i+1, len(mylist)):\n",
    "            if mylist[min_idx] > mylist[j]:\n",
    "                min_idx = j\n",
    "                \n",
    "        # Swap the found minimum element with \n",
    "        # the first element        \n",
    "        mylist[i], mylist[min_idx] = mylist[min_idx], mylist[i]\n",
    "    \n",
    "test_list = [64, 25, 12, 22, 11]\n",
    "selection_sort(test_list)\n",
    "print(test_list)"
   ]
  },
  {
   "cell_type": "code",
   "execution_count": null,
   "metadata": {},
   "outputs": [],
   "source": []
  }
 ],
 "metadata": {
  "interpreter": {
   "hash": "7e1998ff7f8aa20ada591c520b972326324e5ea05489af9e422744c7c09f6dad"
  },
  "kernelspec": {
   "display_name": "Python 3.10.1 64-bit",
   "language": "python",
   "name": "python3"
  },
  "language_info": {
   "codemirror_mode": {
    "name": "ipython",
    "version": 3
   },
   "file_extension": ".py",
   "mimetype": "text/x-python",
   "name": "python",
   "nbconvert_exporter": "python",
   "pygments_lexer": "ipython3",
   "version": "3.10.1"
  },
  "orig_nbformat": 4
 },
 "nbformat": 4,
 "nbformat_minor": 2
}
