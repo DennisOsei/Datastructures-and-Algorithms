{
 "cells": [
  {
   "cell_type": "code",
   "execution_count": 9,
   "metadata": {},
   "outputs": [
    {
     "name": "stdout",
     "output_type": "stream",
     "text": [
      "[11, 22, 33, 44, 55, 66, 77, 88]\n"
     ]
    }
   ],
   "source": [
    "def quicksort(arr):\n",
    "    quicksort_helper(arr, 0, len(arr) - 1)\n",
    "\n",
    "\n",
    "def quicksort_helper(arr, left, right):\n",
    "    if left < right:        # if there is at least 2 elements in the array we want to apply quicksort\n",
    "        partition_pos = partition(arr, left, right)\n",
    "        quicksort_helper(arr, left, partition_pos - 1)   # call quicksort from the left index to part_pos -1\n",
    "        quicksort_helper(arr, partition_pos + 1, right)  # call quicksoort from the part_pos + 1 to the right\n",
    "\n",
    "# returns index of pivot after first quicksort\n",
    "def partition(arr, left, right):\n",
    "    i = left\n",
    "    j = right - 1\n",
    "    pivot = arr[right]\n",
    "\n",
    "    # runs till j crosses i ie. j < i\n",
    "    while i < j:\n",
    "        while i < right and arr[i] < pivot:\n",
    "            i += 1\n",
    "\n",
    "        while j > left and arr[j] >= pivot:\n",
    "            j -= 1\n",
    "\n",
    "        if i < j:\n",
    "            arr[i], arr[j] = arr[j], arr[i]\n",
    "\n",
    "    if arr[i] > pivot:\n",
    "        arr[i], arr[right] = arr[right], arr[i]\n",
    "\n",
    "    return i\n",
    "\n",
    "\n",
    "test_list = [22, 11, 88, 66, 55, 77, 33, 44]\n",
    "quicksort(test_list)\n",
    "print(test_list)\n"
   ]
  },
  {
   "cell_type": "code",
   "execution_count": null,
   "metadata": {},
   "outputs": [],
   "source": []
  }
 ],
 "metadata": {
  "interpreter": {
   "hash": "7e1998ff7f8aa20ada591c520b972326324e5ea05489af9e422744c7c09f6dad"
  },
  "kernelspec": {
   "display_name": "Python 3.10.1 64-bit",
   "language": "python",
   "name": "python3"
  },
  "language_info": {
   "codemirror_mode": {
    "name": "ipython",
    "version": 3
   },
   "file_extension": ".py",
   "mimetype": "text/x-python",
   "name": "python",
   "nbconvert_exporter": "python",
   "pygments_lexer": "ipython3",
   "version": "3.10.1"
  },
  "orig_nbformat": 4
 },
 "nbformat": 4,
 "nbformat_minor": 2
}
