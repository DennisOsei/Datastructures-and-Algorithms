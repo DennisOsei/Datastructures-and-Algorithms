{
 "cells": [
  {
   "cell_type": "code",
   "execution_count": 1,
   "metadata": {},
   "outputs": [],
   "source": [
    "class Deque:\n",
    "    \"\"\"Deque implementation where the `front` is the end of the list\n",
    "    and the `rear` is the beginning of the list.[rear, 0, 1, front]\"\"\"\n",
    "\n",
    "    def __init__(self):\n",
    "        self.items = []\n",
    "\n",
    "    def __str__(self):\n",
    "        return str(self.items)\n",
    "\n",
    "    def add_front(self, item):\n",
    "        self.items.append(item)\n",
    "\n",
    "    def add_rear(self, item):\n",
    "        self.items.insert(0, item)\n",
    "\n",
    "    def remove_front(self):\n",
    "        return self.items.pop()\n",
    "\n",
    "    def remove_rear(self):\n",
    "        return self.items.pop(0)\n",
    "\n",
    "    def is_empty(self):\n",
    "        return not bool(self.items)\n",
    "\n",
    "    def size(self):\n",
    "        return len(self.items)"
   ]
  },
  {
   "cell_type": "code",
   "execution_count": 3,
   "metadata": {},
   "outputs": [
    {
     "name": "stdout",
     "output_type": "stream",
     "text": [
      "True\n",
      "['dog', 4, 'cat', True]\n",
      "4\n",
      "False\n",
      "[8.4, 'dog', 4, 'cat', True]\n",
      "8.4\n",
      "True\n",
      "['dog', 4, 'cat']\n"
     ]
    }
   ],
   "source": [
    "d = Deque()\n",
    "print(d.is_empty())\n",
    "d.add_rear(4)\n",
    "d.add_rear('dog')\n",
    "d.add_front('cat')\n",
    "d.add_front(True)\n",
    "print(d)\n",
    "print(d.size())\n",
    "print(d.is_empty())\n",
    "d.add_rear(8.4)\n",
    "print(d)\n",
    "print(d.remove_rear())\n",
    "print(d.remove_front())\n",
    "print(d)"
   ]
  },
  {
   "cell_type": "code",
   "execution_count": null,
   "metadata": {},
   "outputs": [],
   "source": [
    "# [t, o, o, t]"
   ]
  },
  {
   "cell_type": "code",
   "execution_count": 8,
   "metadata": {},
   "outputs": [
    {
     "name": "stdout",
     "output_type": "stream",
     "text": [
      "False\n",
      "True\n",
      "False\n",
      "True\n",
      "True\n"
     ]
    }
   ],
   "source": [
    "def palindrome_checker(string):\n",
    "    word = Deque()\n",
    "    for ch in string:\n",
    "        word.add_rear(ch)\n",
    "\n",
    "    while word.size() > 1:\n",
    "        first = word.remove_front()\n",
    "        last = word.remove_rear()\n",
    "        if first != last:\n",
    "            return False\n",
    "\n",
    "    return True\n",
    "\n",
    "\n",
    "print(palindrome_checker(\"lsdkjfskf\"))\n",
    "print(palindrome_checker(\"radar\"))\n",
    "print(palindrome_checker(\"ab\"))\n",
    "print(palindrome_checker(\"ee\"))\n",
    "print(palindrome_checker(\"z\"))"
   ]
  },
  {
   "cell_type": "code",
   "execution_count": null,
   "metadata": {},
   "outputs": [],
   "source": []
  }
 ],
 "metadata": {
  "interpreter": {
   "hash": "7e1998ff7f8aa20ada591c520b972326324e5ea05489af9e422744c7c09f6dad"
  },
  "kernelspec": {
   "display_name": "Python 3.10.1 64-bit",
   "language": "python",
   "name": "python3"
  },
  "language_info": {
   "codemirror_mode": {
    "name": "ipython",
    "version": 3
   },
   "file_extension": ".py",
   "mimetype": "text/x-python",
   "name": "python",
   "nbconvert_exporter": "python",
   "pygments_lexer": "ipython3",
   "version": "3.10.1"
  },
  "orig_nbformat": 4
 },
 "nbformat": 4,
 "nbformat_minor": 2
}
