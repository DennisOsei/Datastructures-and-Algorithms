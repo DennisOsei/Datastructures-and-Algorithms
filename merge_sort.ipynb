{
 "cells": [
  {
   "cell_type": "code",
   "execution_count": 8,
   "metadata": {},
   "outputs": [],
   "source": [
    "# Time complexity is O(n log n) because we have to divide the list into halves until the end; O(log n)\n",
    "# and we also have to merge n times. The more number of elements in the original lists, the more number of steps it has to take to merge the list\n",
    "# Space complexity is O(n)"
   ]
  },
  {
   "cell_type": "code",
   "execution_count": 9,
   "metadata": {},
   "outputs": [
    {
     "name": "stdout",
     "output_type": "stream",
     "text": [
      "[17, 20, 26, 31, 44, 54, 55, 77, 93]\n"
     ]
    }
   ],
   "source": [
    "def merge_sort(a_list):\n",
    "    if len(a_list) > 1:\n",
    "        mid = len(a_list) // 2\n",
    "        left_half = a_list[:mid]\n",
    "        right_half = a_list[mid:]\n",
    "\n",
    "        merge_sort(left_half)\n",
    "        merge_sort(right_half)\n",
    "        \n",
    "        i = 0  #left_arr idx\n",
    "        j = 0  #right_arr idx\n",
    "        k = 0  #merged_arr idx\n",
    "        while i < len(left_half) and j < len(right_half):\n",
    "            if left_half[i] <= right_half[j]:\n",
    "                a_list[k] = left_half[i]       #put the left element into the merged array\n",
    "                i = i + 1                      # increment left array index by one \n",
    "            else:\n",
    "                a_list[k] = right_half[j]\n",
    "                j = j + 1\n",
    "            k = k + 1                          # increment merged array index with every while loop\n",
    "\n",
    "        # if every element of the right array has been added to the merged array, we want to add the \n",
    "        # elements of the left array to the merged array without having to compare with the right array.\n",
    "        while i < len(left_half):\n",
    "            a_list[k] = left_half[i]\n",
    "            i = i + 1\n",
    "            k = k + 1\n",
    "\n",
    "        while j < len(right_half):\n",
    "            a_list[k] = right_half[j]\n",
    "            j = j + 1\n",
    "            k = k + 1\n",
    "\n",
    "\n",
    "a_list = [54, 26, 93, 17, 77, 31, 44, 55, 20]\n",
    "merge_sort(a_list)\n",
    "print(a_list)"
   ]
  },
  {
   "cell_type": "code",
   "execution_count": null,
   "metadata": {},
   "outputs": [],
   "source": []
  },
  {
   "cell_type": "code",
   "execution_count": 10,
   "metadata": {},
   "outputs": [],
   "source": [
    "# Let's define a recursive merge sort function. As usual, it takes the\n",
    "# list or sub-list that we want it to sort.\n",
    "def merge_sort(values):\n",
    "  # Our base case is the same as with Quicksort. If the list has zero or one\n",
    "  # values, there's nothing to sort, so we return it as-is.\n",
    "  if len(values) <= 1:\n",
    "    return values\n",
    "  # If we didn't return, it means we're in the recursive case. So first we need\n",
    "  # to split the list in half. We need to know the index we should split on,\n",
    "  # so we get the length of the list and divide it by 2. So for example if\n",
    "  # there are 8 items in the list, we'll want an index of 4. But what if there\n",
    "  # were an odd number of items in the list, like 7? We can't have an index of\n",
    "  # 3.5, so we'll need to round down in that case. Since we're working in\n",
    "  # Python currently, we can take advantage of a special Python operator that\n",
    "  # divides and rounds the result down: the floor division operator. It\n",
    "  # consists of a double slash.\n",
    "  middle_index = len(values) // 2\n",
    "  # Now we'll use the Python slice syntax to get the left half of the list.\n",
    "  # We'll pass that list to a recursive call to the merge_sort function.\n",
    "  left_values = merge_sort(values[:middle_index])\n",
    "  # We'll also use slice syntax to get the right half of the list, and pass\n",
    "  # that to merge_sort as well.\n",
    "  right_values = merge_sort(values[middle_index:])\n",
    "  # Now we need to merge the two halves together, and sort them as we do it.\n",
    "  # We'll create a list to hold the sorted values.\n",
    "  sorted_values = []\n",
    "  # Now we get to the complicated part - merging the two halves together and\n",
    "  # sorting them as we do it.\n",
    "  # We'll be moving from left to right through the left half of the list,\n",
    "  # copying values over to the sorted_values list as we go. This left_index\n",
    "  # variable will help us keep track of our position.\n",
    "  left_index = 0\n",
    "  # At the same time, we'll also be moving from left to right through the right\n",
    "  # half of the list and copying values over, so we need a separate\n",
    "  # right_index variable to track that position as well.\n",
    "  right_index = 0\n",
    "  # We'll keep looping until we've processed all of the values in both halves\n",
    "  # of the list.\n",
    "  while left_index < len(left_values) and right_index < len(right_values):\n",
    "    # We're looking to copy over the lowest values first. So first we test\n",
    "    # whether the current value on the left side is less than the value on the\n",
    "    # right side.\n",
    "    if left_values[left_index] < right_values[right_index]:\n",
    "      # If the left side value is less, that's what we'll copy to the sorted\n",
    "      # list.\n",
    "      sorted_values.append(left_values[left_index])\n",
    "      # And then we'll move to the next value in the left half of the list.\n",
    "      left_index += 1\n",
    "    # Otherwise, the current value from the right half must have been lower.\n",
    "    else:\n",
    "      # So we'll copy that value to the sorted list instead.\n",
    "      sorted_values.append(right_values[right_index])\n",
    "      # And then we'll move to the next value in the right half of the list.\n",
    "      right_index += 1\n",
    "  # At this point one of the two unsorted halves still has a value remaining,\n",
    "  # and the other is empty. We won't waste time checking which is which.\n",
    "  # We'll just copy the remainder of both lists over to the sorted list.\n",
    "  # The one with a value left will add that value, and the empty one will add\n",
    "  # nothing.\n",
    "  sorted_values += left_values[left_index:]\n",
    "  sorted_values += right_values[right_index:]\n",
    "  # All the numbers from both halves should now be copied to the sorted list,\n",
    "  # so we can return it.\n",
    "  return sorted_values"
   ]
  },
  {
   "cell_type": "code",
   "execution_count": 11,
   "metadata": {},
   "outputs": [
    {
     "name": "stdout",
     "output_type": "stream",
     "text": [
      "[17, 20, 26, 31, 44, 54, 55, 77, 93]\n"
     ]
    }
   ],
   "source": [
    "a_list = [54, 26, 93, 17, 77, 31, 44, 55, 20]\n",
    "print(merge_sort(a_list))"
   ]
  },
  {
   "cell_type": "code",
   "execution_count": null,
   "metadata": {},
   "outputs": [],
   "source": []
  },
  {
   "cell_type": "code",
   "execution_count": 12,
   "metadata": {},
   "outputs": [
    {
     "name": "stdout",
     "output_type": "stream",
     "text": [
      "[17, 20, 26, 31, 44, 54, 55, 77, 93]\n"
     ]
    }
   ],
   "source": [
    "def merge_sort(a_list):\n",
    "    if len(a_list) > 1:\n",
    "        mid = len(a_list) // 2\n",
    "        left_half = a_list[:mid]\n",
    "        right_half = a_list[mid:]\n",
    "\n",
    "        merge_sort(left_half)\n",
    "        merge_sort(right_half)\n",
    "        \n",
    "        i, j, k = 0, 0, 0\n",
    "        while i < len(left_half) and j < len(right_half):\n",
    "            if left_half[i] <= right_half[j]:\n",
    "                a_list[k] = left_half[i]\n",
    "                i = i + 1\n",
    "            else:\n",
    "                a_list[k] = right_half[j]\n",
    "                j = j + 1\n",
    "            k = k + 1\n",
    "\n",
    "        while i < len(left_half):\n",
    "            a_list[k] = left_half[i]\n",
    "            i = i + 1\n",
    "            k = k + 1\n",
    "\n",
    "        while j < len(right_half):\n",
    "            a_list[k] = right_half[j]\n",
    "            j = j + 1\n",
    "            k = k + 1\n",
    "\n",
    "\n",
    "a_list = [54, 26, 93, 17, 77, 31, 44, 55, 20]\n",
    "merge_sort(a_list)\n",
    "print(a_list)"
   ]
  },
  {
   "cell_type": "code",
   "execution_count": null,
   "metadata": {},
   "outputs": [],
   "source": []
  }
 ],
 "metadata": {
  "interpreter": {
   "hash": "7e1998ff7f8aa20ada591c520b972326324e5ea05489af9e422744c7c09f6dad"
  },
  "kernelspec": {
   "display_name": "Python 3.10.1 64-bit",
   "language": "python",
   "name": "python3"
  },
  "language_info": {
   "codemirror_mode": {
    "name": "ipython",
    "version": 3
   },
   "file_extension": ".py",
   "mimetype": "text/x-python",
   "name": "python",
   "nbconvert_exporter": "python",
   "pygments_lexer": "ipython3",
   "version": "3.10.1"
  },
  "orig_nbformat": 4
 },
 "nbformat": 4,
 "nbformat_minor": 2
}
