{
 "cells": [
  {
   "cell_type": "code",
   "execution_count": 37,
   "metadata": {},
   "outputs": [],
   "source": [
    "class Stack:\n",
    "    \"\"\"Stack implementation where the `top` is the end of the list\n",
    "    and the `base` is the beginning of the list.[base, 0, 1, top]\"\"\"\n",
    "\n",
    "    def __init__(self):\n",
    "        \"\"\"Create new stack\"\"\"\n",
    "        self.items = []\n",
    "\n",
    "    def __str__(self):\n",
    "        \"\"\"String representation of stack instance\"\"\"\n",
    "        return str(self.items)\n",
    "\n",
    "    def is_empty(self):\n",
    "        \"\"\"Check if the stack is empty\"\"\"\n",
    "        return self.items == []\n",
    "\n",
    "    def push(self, item):\n",
    "        \"\"\"Add an item to the stack\"\"\"\n",
    "        self.items.append(item)\n",
    "\n",
    "    def pop(self):\n",
    "        \"\"\"Remove an item from the stack\"\"\"\n",
    "        return self.items.pop()\n",
    "\n",
    "    def peek(self):\n",
    "        \"\"\"Get the value of the top item in the stack\"\"\"\n",
    "        return self.items[-1]\n",
    "\n",
    "    def size(self):\n",
    "        \"\"\"Get the number of items in the stack\"\"\"\n",
    "        return len(self.items)\n",
    "\n",
    "s = Stack()\n"
   ]
  },
  {
   "cell_type": "code",
   "execution_count": 38,
   "metadata": {},
   "outputs": [
    {
     "name": "stdout",
     "output_type": "stream",
     "text": [
      "True\n",
      "[4, 'dog']\n",
      "dog\n",
      "[4, 'dog', True]\n",
      "3\n",
      "False\n",
      "[4, 'dog', True, 8.4]\n",
      "8.4\n",
      "True\n",
      "[4, 'dog']\n",
      "2\n"
     ]
    }
   ],
   "source": [
    "print(s.is_empty())\n",
    "s.push(4)\n",
    "s.push(\"dog\")\n",
    "print(s)\n",
    "print(s.peek())\n",
    "s.push(True)\n",
    "print(s)\n",
    "print(s.size())\n",
    "print(s.is_empty())\n",
    "s.push(8.4)\n",
    "print(s)\n",
    "print(s.pop())\n",
    "print(s.pop())\n",
    "print(s)\n",
    "print(s.size())\n"
   ]
  },
  {
   "cell_type": "code",
   "execution_count": 39,
   "metadata": {},
   "outputs": [],
   "source": [
    "class Stack2:\n",
    "    \"\"\"Stack implementation where the `top` is the beginning of the \n",
    "    list and the `base` is the end of the list.[top, 0, 1, base]\"\"\"\n",
    "\n",
    "    def __init__(self):\n",
    "        \"\"\"Initiates new stack\"\"\"\n",
    "        self._items = []\n",
    "\n",
    "    def __str__(self):\n",
    "        \"\"\"Return string representation of stack instance\"\"\"\n",
    "        return str(self._items)\n",
    "\n",
    "    def push(self, item):\n",
    "        \"\"\"Add an item to the stack\"\"\"\n",
    "        self._items.insert(0, item)\n",
    "\n",
    "    def pop(self):\n",
    "        \"\"\"Remove an item from a stack\"\"\"\n",
    "        return self._items.pop(0)\n",
    "\n",
    "    def peek(self):\n",
    "        \"\"\"Return the top item from the stack\"\"\"\n",
    "        return self._items[0]\n",
    "\n",
    "    def is_empty(self):\n",
    "        \"\"\"Check if stack is empty\"\"\"\n",
    "        return not bool(self._items)\n",
    "\n",
    "    def size(self):\n",
    "        \"\"\"Return the number of items in the stack\"\"\"\n",
    "        return len(self._items)\n",
    "        \n",
    "s = Stack2()"
   ]
  },
  {
   "cell_type": "code",
   "execution_count": 40,
   "metadata": {},
   "outputs": [
    {
     "name": "stdout",
     "output_type": "stream",
     "text": [
      "True\n",
      "['dog', 4]\n",
      "dog\n",
      "[True, 'dog', 4]\n",
      "3\n",
      "False\n",
      "[8.4, True, 'dog', 4]\n",
      "8.4\n",
      "True\n",
      "['dog', 4]\n",
      "2\n"
     ]
    }
   ],
   "source": [
    "\n",
    "print(s.is_empty())\n",
    "s.push(4)\n",
    "s.push(\"dog\")\n",
    "print(s)\n",
    "print(s.peek())\n",
    "s.push(True)\n",
    "print(s)\n",
    "print(s.size())\n",
    "print(s.is_empty())\n",
    "s.push(8.4)\n",
    "print(s)\n",
    "print(s.pop())\n",
    "print(s.pop())\n",
    "print(s)\n",
    "print(s.size())"
   ]
  },
  {
   "cell_type": "code",
   "execution_count": null,
   "metadata": {},
   "outputs": [],
   "source": []
  },
  {
   "cell_type": "code",
   "execution_count": 55,
   "metadata": {},
   "outputs": [],
   "source": [
    "# Write a function rev_string(my_str) that uses a stack to reverse the characters in a string."
   ]
  },
  {
   "cell_type": "code",
   "execution_count": 56,
   "metadata": {},
   "outputs": [],
   "source": [
    "def rev_string(mystr):\n",
    "    myStack = Stack()\n",
    "    for ch in mystr:\n",
    "        myStack.push(ch)\n",
    "    revstr = ''\n",
    "    while not myStack.is_empty():\n",
    "        revstr = revstr + myStack.pop()\n",
    "\n",
    "    return revstr"
   ]
  },
  {
   "cell_type": "code",
   "execution_count": 57,
   "metadata": {},
   "outputs": [
    {
     "name": "stdout",
     "output_type": "stream",
     "text": [
      "True\n",
      "True\n",
      "True\n"
     ]
    }
   ],
   "source": [
    "print(rev_string(\"apple\") == \"elppa\")\n",
    "print(rev_string(\"012345\") == \"543210\")\n",
    "print(rev_string(\"x\") == \"x\")"
   ]
  },
  {
   "cell_type": "code",
   "execution_count": null,
   "metadata": {},
   "outputs": [],
   "source": []
  },
  {
   "cell_type": "code",
   "execution_count": 60,
   "metadata": {},
   "outputs": [],
   "source": [
    "# Parenthesis Checker"
   ]
  },
  {
   "cell_type": "code",
   "execution_count": 64,
   "metadata": {},
   "outputs": [
    {
     "name": "stdout",
     "output_type": "stream",
     "text": [
      "True\n",
      "True\n",
      "False\n",
      "False\n",
      "False\n",
      "False\n",
      "True\n"
     ]
    }
   ],
   "source": [
    "def par_checker(symbol_string):\n",
    "    s = Stack()\n",
    "    for symbol in symbol_string:\n",
    "        if symbol == \"(\":\n",
    "            s.push(symbol)\n",
    "        else:\n",
    "            if s.is_empty():\n",
    "                return False\n",
    "            else:\n",
    "                s.pop()\n",
    "\n",
    "    return s.is_empty()\n",
    "\n",
    "\n",
    "print(par_checker(\"((()))\")) \n",
    "print(par_checker(\"((()()))\"))  \n",
    "print(par_checker(\"(()\"))  \n",
    "print(par_checker(\")(\")) \n",
    "print(par_checker(\")\")) \n",
    "print(par_checker(\"(\")) \n",
    "print(par_checker(\"()\")) "
   ]
  },
  {
   "cell_type": "code",
   "execution_count": null,
   "metadata": {},
   "outputs": [],
   "source": []
  }
 ],
 "metadata": {
  "interpreter": {
   "hash": "7e1998ff7f8aa20ada591c520b972326324e5ea05489af9e422744c7c09f6dad"
  },
  "kernelspec": {
   "display_name": "Python 3.10.1 64-bit",
   "language": "python",
   "name": "python3"
  },
  "language_info": {
   "codemirror_mode": {
    "name": "ipython",
    "version": 3
   },
   "file_extension": ".py",
   "mimetype": "text/x-python",
   "name": "python",
   "nbconvert_exporter": "python",
   "pygments_lexer": "ipython3",
   "version": "3.10.1"
  },
  "orig_nbformat": 4
 },
 "nbformat": 4,
 "nbformat_minor": 2
}
