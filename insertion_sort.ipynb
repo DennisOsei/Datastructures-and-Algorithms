{
 "cells": [
  {
   "cell_type": "code",
   "execution_count": null,
   "metadata": {},
   "outputs": [],
   "source": [
    "\"\"\"\n",
    "Time complexity is O(n^2)\n",
    "\"\"\""
   ]
  },
  {
   "cell_type": "code",
   "execution_count": 1,
   "metadata": {},
   "outputs": [
    {
     "name": "stdout",
     "output_type": "stream",
     "text": [
      "[17, 20, 26, 31, 44, 54, 55, 77, 93]\n"
     ]
    }
   ],
   "source": [
    "def insertion_sort(a_list):\n",
    "    for i in range(1, len(a_list)):\n",
    "        cur_val = a_list[i]\n",
    "        cur_pos = i\n",
    "        \n",
    "        # runs if the current value is less than the value before it\n",
    "        while cur_pos > 0 and a_list[cur_pos - 1] > cur_val:\n",
    "            a_list[cur_pos] = a_list[cur_pos - 1]\n",
    "            cur_pos = cur_pos - 1\n",
    "        a_list[cur_pos] = cur_val\n",
    "\n",
    "\n",
    "a_list = [54, 26, 93, 17, 77, 31, 44, 55, 20]\n",
    "insertion_sort(a_list)\n",
    "print(a_list)"
   ]
  },
  {
   "cell_type": "code",
   "execution_count": null,
   "metadata": {},
   "outputs": [],
   "source": []
  },
  {
   "cell_type": "code",
   "execution_count": 2,
   "metadata": {},
   "outputs": [
    {
     "name": "stdout",
     "output_type": "stream",
     "text": [
      "[17, 20, 26, 31, 44, 54, 55, 77, 93]\n"
     ]
    }
   ],
   "source": [
    "def insertion_sort(nums):\n",
    "    nums = list(nums)\n",
    "    for i in range(len(nums)):\n",
    "        cur = nums.pop(i)\n",
    "        j = i-1\n",
    "        while j >=0 and nums[j] > cur:\n",
    "            j -= 1\n",
    "        nums.insert(j+1, cur)\n",
    "    return nums \n",
    "\n",
    "nums = [54, 26, 93, 17, 77, 31, 44, 55, 20]\n",
    "print(insertion_sort(nums))"
   ]
  },
  {
   "cell_type": "code",
   "execution_count": null,
   "metadata": {},
   "outputs": [],
   "source": []
  }
 ],
 "metadata": {
  "interpreter": {
   "hash": "7e1998ff7f8aa20ada591c520b972326324e5ea05489af9e422744c7c09f6dad"
  },
  "kernelspec": {
   "display_name": "Python 3.10.1 64-bit",
   "language": "python",
   "name": "python3"
  },
  "language_info": {
   "codemirror_mode": {
    "name": "ipython",
    "version": 3
   },
   "file_extension": ".py",
   "mimetype": "text/x-python",
   "name": "python",
   "nbconvert_exporter": "python",
   "pygments_lexer": "ipython3",
   "version": "3.10.1"
  },
  "orig_nbformat": 4
 },
 "nbformat": 4,
 "nbformat_minor": 2
}
