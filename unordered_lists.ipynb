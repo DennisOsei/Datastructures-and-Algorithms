{
 "cells": [
  {
   "cell_type": "code",
   "execution_count": 540,
   "metadata": {},
   "outputs": [
    {
     "data": {
      "text/plain": [
       "'\\nThe basic building block for the linked list implementation is the node. Each node object\\nmust hold at least two pieces of information. First, the node must contain the list item\\nitself. We will call this the data field of the node. In addition, each node must hold a\\nreference to the next node.\\nThe node contains the data and the link/reference to the next node.\\n'"
      ]
     },
     "execution_count": 540,
     "metadata": {},
     "output_type": "execute_result"
    }
   ],
   "source": [
    "\"\"\"\n",
    "The basic building block for the linked list implementation is the node. Each node object\n",
    "must hold at least two pieces of information. First, the node must contain the list item\n",
    "itself. We will call this the data field of the node. In addition, each node must hold a\n",
    "reference to the next node.\n",
    "The node contains the data and the link/reference to the next node.\n",
    "\"\"\""
   ]
  },
  {
   "cell_type": "code",
   "execution_count": 541,
   "metadata": {},
   "outputs": [],
   "source": [
    "class Node:\n",
    "    \"\"\"A node of a linked list\"\"\"\n",
    "\n",
    "    def __init__(self, node_data):\n",
    "        self._data = node_data\n",
    "        self._next = None\n",
    "\n",
    "    def get_data(self):\n",
    "        \"\"\"Get node data\"\"\"\n",
    "        return self._data\n",
    "\n",
    "    def set_data(self, node_data):\n",
    "        \"\"\"Set node data\"\"\"\n",
    "        self._data = node_data\n",
    "\n",
    "    data = property(get_data, set_data)\n",
    "\n",
    "    def get_next(self):\n",
    "        \"\"\"Get next node\"\"\"\n",
    "        return self._next\n",
    "\n",
    "    def set_next(self, node_next):\n",
    "        \"\"\"Set next node\"\"\"\n",
    "        self._next = node_next\n",
    "\n",
    "    next = property(get_next, set_next)\n",
    "\n",
    "    def __str__(self):\n",
    "        \"\"\"String\"\"\"\n",
    "        return str(self._data)\n",
    "\n",
    "\n",
    "class UnorderedList:\n",
    "\n",
    "    def __init__(self):\n",
    "        self.head = None\n",
    "\n",
    "    def __str__(self):\n",
    "        return str(self.head)\n",
    "\n",
    "    def is_empty(self):\n",
    "        return self.head == None\n",
    "\n",
    "    def add(self, item):\n",
    "        temp = Node(item)\n",
    "        temp.set_next(self.head)   # changes the `next` reference or link of the new node to refer to the old first node(head) of the list\n",
    "        self.head = temp           # modifies the head of the list to refer to the new node.\n",
    "\n",
    "    def size(self):\n",
    "        current = self.head\n",
    "        count = 0\n",
    "        while current is not None:\n",
    "            count += 1\n",
    "            current = current.next\n",
    "\n",
    "        return count\n",
    "\n",
    "    def search(self, item):\n",
    "        current = self.head\n",
    "        while current is not None:\n",
    "            if current.data == item:\n",
    "                return True\n",
    "            else:\n",
    "                current = current.next\n",
    "\n",
    "        return False\n",
    "\n",
    "    def remove(self, item):\n",
    "        current = self.head\n",
    "        previous = None\n",
    "\n",
    "        while current is not None:\n",
    "            if current.data == item:\n",
    "                break\n",
    "            previous = current\n",
    "            current = current.next\n",
    "\n",
    "        if current is None:\n",
    "            raise ValueError(f\"{item} is not in the list\")\n",
    "        if previous is None:\n",
    "            self.head = current.next\n",
    "        else:\n",
    "            previous.next = current.next\n",
    "\n",
    "    def append(self, item):\n",
    "        temp = Node(item)\n",
    "        current = self.head\n",
    "        previous = None\n",
    "\n",
    "        while current is not None:\n",
    "            previous = current\n",
    "            current = current.next\n",
    "\n",
    "        if current is None:\n",
    "            previous.next = temp\n",
    "\n",
    "    def insert(self, position, item):\n",
    "        temp = Node(item)\n",
    "        current = self.head\n",
    "        previous = None\n",
    "        count = 0\n",
    "\n",
    "        while current is not None:\n",
    "            if position == count:\n",
    "                break\n",
    "            previous = current\n",
    "            current = current.next\n",
    "            count += 1\n",
    "\n",
    "        if current is None:\n",
    "            raise print(f\" {position} is out of range\")\n",
    "\n",
    "        if previous is None:\n",
    "            temp.next = current.next\n",
    "            self.head = temp\n",
    "\n",
    "        else:\n",
    "            previous.next = temp\n",
    "            temp.next = current.next\n",
    "\n",
    "    def index(self, item):\n",
    "        current = self.head\n",
    "        position = 0\n",
    "        while current is not None:\n",
    "            if item == current.data:\n",
    "                return position\n",
    "            current = current.next\n",
    "            position += 1\n",
    "\n",
    "        return f\"{item} is not in list\"\n",
    "\n",
    "    def pop(self):\n",
    "        current = self.head\n",
    "        previous = None\n",
    "        next = current.next\n",
    "        while next is not None:\n",
    "            previous = current\n",
    "            current = next\n",
    "            next = next.next\n",
    "            print(previous, current, next)\n",
    "\n",
    "        if next is None:\n",
    "            previous.next = next\n",
    "\n",
    "        return current\n",
    "\n",
    "\n",
    "\n",
    "\n"
   ]
  },
  {
   "cell_type": "code",
   "execution_count": 542,
   "metadata": {},
   "outputs": [
    {
     "name": "stdout",
     "output_type": "stream",
     "text": [
      "None\n",
      "31\n",
      "77\n"
     ]
    },
    {
     "data": {
      "text/plain": [
       "6"
      ]
     },
     "execution_count": 542,
     "metadata": {},
     "output_type": "execute_result"
    }
   ],
   "source": [
    "my_list = UnorderedList()\n",
    "print(my_list)\n",
    "\n",
    "my_list.add(31)\n",
    "print(my_list)\n",
    "my_list.add(77)\n",
    "print(my_list)\n",
    "my_list.add(17)\n",
    "my_list.add(93)\n",
    "my_list.add(26)\n",
    "my_list.add(54)\n",
    "my_list.size()\n",
    "my_list.search(17)\n",
    "my_list.size()"
   ]
  },
  {
   "cell_type": "code",
   "execution_count": 543,
   "metadata": {},
   "outputs": [
    {
     "name": "stdout",
     "output_type": "stream",
     "text": [
      "6\n",
      "True\n",
      "False\n",
      "True\n",
      "7\n",
      "6\n",
      "5\n",
      "4\n",
      "False\n",
      "27 is not in the list\n",
      "4\n",
      "3\n",
      "True\n",
      "4\n"
     ]
    }
   ],
   "source": [
    "print(my_list.size())\n",
    "print(my_list.search(93))\n",
    "print(my_list.search(100))\n",
    "\n",
    "my_list.add(100)\n",
    "print(my_list.search(100))\n",
    "print(my_list.size())\n",
    "\n",
    "my_list.remove(54)\n",
    "print(my_list.size())\n",
    "my_list.remove(93)\n",
    "print(my_list.size())\n",
    "my_list.remove(31)\n",
    "print(my_list.size())\n",
    "print(my_list.search(93))\n",
    "\n",
    "try:\n",
    "    my_list.remove(27)\n",
    "except ValueError as ve:\n",
    "    print(ve)\n",
    "\n",
    "print(my_list.size())\n",
    "my_list.search(77)\n",
    "my_list.remove(77)\n",
    "my_list.size()\n",
    "my_list.search(77)\n",
    "\n",
    "print(my_list.size())\n",
    "my_list.append(99)\n",
    "print(my_list.search(99))\n",
    "print(my_list.size())\n"
   ]
  },
  {
   "cell_type": "code",
   "execution_count": 544,
   "metadata": {},
   "outputs": [
    {
     "name": "stdout",
     "output_type": "stream",
     "text": [
      "4\n",
      "True\n",
      "4\n",
      "100\n",
      "True\n",
      "1\n"
     ]
    }
   ],
   "source": [
    "print(my_list.size())\n",
    "my_list.insert(2, 50)\n",
    "print(my_list.search(50))\n",
    "print(my_list.size())\n",
    "\n",
    "print(my_list)\n",
    "my_list.insert(0, 1)\n",
    "print(my_list.search(1))\n",
    "print(my_list)\n"
   ]
  },
  {
   "cell_type": "code",
   "execution_count": 545,
   "metadata": {},
   "outputs": [
    {
     "name": "stdout",
     "output_type": "stream",
     "text": [
      "4\n",
      "1\n",
      "0\n",
      "3 is not in list\n",
      "2\n"
     ]
    }
   ],
   "source": [
    "print(my_list.size())\n",
    "print(my_list)\n",
    "print(my_list.index(1))\n",
    "print(my_list.index(3))\n",
    "print(my_list.index(50))"
   ]
  },
  {
   "cell_type": "code",
   "execution_count": 546,
   "metadata": {},
   "outputs": [
    {
     "name": "stdout",
     "output_type": "stream",
     "text": [
      "4\n",
      "1 26 50\n",
      "26 50 99\n",
      "50 99 None\n",
      "99\n",
      "3\n"
     ]
    }
   ],
   "source": [
    "print(my_list.size())\n",
    "print(my_list.pop())\n",
    "print(my_list.size())\n"
   ]
  },
  {
   "cell_type": "code",
   "execution_count": null,
   "metadata": {},
   "outputs": [],
   "source": []
  }
 ],
 "metadata": {
  "interpreter": {
   "hash": "7e1998ff7f8aa20ada591c520b972326324e5ea05489af9e422744c7c09f6dad"
  },
  "kernelspec": {
   "display_name": "Python 3.10.1 64-bit",
   "language": "python",
   "name": "python3"
  },
  "language_info": {
   "codemirror_mode": {
    "name": "ipython",
    "version": 3
   },
   "file_extension": ".py",
   "mimetype": "text/x-python",
   "name": "python",
   "nbconvert_exporter": "python",
   "pygments_lexer": "ipython3",
   "version": "3.10.1"
  },
  "orig_nbformat": 4
 },
 "nbformat": 4,
 "nbformat_minor": 2
}
