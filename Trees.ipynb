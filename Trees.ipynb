{
 "cells": [
  {
   "cell_type": "code",
   "execution_count": 14,
   "metadata": {},
   "outputs": [],
   "source": [
    "\"\"\"\n",
    "\n",
    "                a\n",
    "              /   \\ \n",
    "             b     c\n",
    "            / \\     \\ \n",
    "           d   e     f\n",
    "\n",
    "\"\"\"\n",
    "\n",
    "my_tree = [\n",
    "    \"a\",  # root\n",
    "        [\"b\",  # left subtree\n",
    "            [\"d\", [], []],\n",
    "            [\"e\", [], []]\n",
    "        ],\n",
    "        [\"c\",  # right subtree\n",
    "            [\"f\", [], []],\n",
    "            []\n",
    "        ],\n",
    "    ]\n",
    "# Note: There's two lists in every list\n",
    "# If a list has a root and two empty lists it is a leaf node."
   ]
  },
  {
   "cell_type": "code",
   "execution_count": 15,
   "metadata": {},
   "outputs": [
    {
     "name": "stdout",
     "output_type": "stream",
     "text": [
      "['a', ['b', ['d', [], []], ['e', [], []]], ['c', ['f', [], []], []]]\n",
      "left subtree =  ['b', ['d', [], []], ['e', [], []]]\n",
      "root =  a\n",
      "right subtree =  ['c', ['f', [], []], []]\n"
     ]
    }
   ],
   "source": [
    "my_tree = [\"a\", [\"b\", [\"d\", [], []], [\"e\", [], []]], [\"c\", [\"f\", [], []], []]]\n",
    "print(my_tree)\n",
    "print(\"left subtree = \", my_tree[1])\n",
    "print(\"root = \", my_tree[0])\n",
    "print(\"right subtree = \", my_tree[2])"
   ]
  },
  {
   "cell_type": "code",
   "execution_count": 16,
   "metadata": {},
   "outputs": [],
   "source": [
    "                      \n",
    "def make_binary_tree(root):\n",
    "    return [root, [], []]\n",
    "\n",
    "# Insert left\n",
    "# [a, [b, [d, [], []], [e, [], []]], [c, [], []]]\n",
    "# oc = [b, [d, [], []], [e, [], []]]\n",
    "# [a, [z, [b, [d, [], []], [e, [], []]], []], [c, [], []]]\n",
    "\"\"\"\n",
    "Notice that to insert a left child, we first obtain the (possibly empty) list that corresponds to the current left child. We then add the new left child,\n",
    "installing the old left child as the left child of the new one. This allows us to splice a new node into the tree at any position. \n",
    "\n",
    "            a                             a       \n",
    "          /    \\                        /   \\ \n",
    "         b       c       --->          z     c\n",
    "        / \\                           /\n",
    "       d   e                         b   \n",
    "                                    / \\  \n",
    "                                   d   e\n",
    "\"\"\"\n",
    "def insert_left(root, new_child):\n",
    "    old_child = root.pop(1)\n",
    "    if len(old_child) > 1:\n",
    "        root.insert(1, [new_child, old_child, []])\n",
    "    else:\n",
    "        root.insert(1, [new_child, [], []])\n",
    "\n",
    "    return root\n",
    "\n",
    "def insert_right(root, new_child):\n",
    "    old_child = root.pop(2)\n",
    "    if len(old_child) > 1:\n",
    "        root.insert(2, [new_child, [], old_child])\n",
    "    else:\n",
    "        root.insert(2, [new_child, [], []])\n",
    "    \n",
    "    return root\n",
    "\n",
    "def get_root_val(root):\n",
    "    return root[0]\n",
    "\n",
    "def set_root_val(root, new_value):\n",
    "    root[0] = new_value\n",
    "\n",
    "def get_left_child(root):\n",
    "    return root[1]\n",
    "\n",
    "def get_right_child(root):\n",
    "    return root[2]\n"
   ]
  },
  {
   "cell_type": "code",
   "execution_count": 17,
   "metadata": {},
   "outputs": [
    {
     "name": "stdout",
     "output_type": "stream",
     "text": [
      "[3, [], []]\n",
      "[3, [4, [], []], []]\n",
      "[3, [5, [4, [], []], []], []]\n",
      "[3, [5, [4, [], []], []], [6, [], []]]\n",
      "[3, [5, [4, [], []], []], [7, [], [6, [], []]]]\n",
      "[5, [4, [], []], []]\n",
      "[3, [9, [4, [], []], []], [7, [], [6, [], []]]]\n",
      "[3, [9, [11, [4, [], []], []], []], [7, [], [6, [], []]]]\n",
      "[6, [], []]\n"
     ]
    }
   ],
   "source": [
    "a_tree = make_binary_tree(3)\n",
    "print(a_tree)\n",
    "\n",
    "insert_left(a_tree, 4)\n",
    "print(a_tree)\n",
    "insert_left(a_tree, 5)\n",
    "print(a_tree)\n",
    "\n",
    "insert_right(a_tree, 6)\n",
    "print(a_tree)\n",
    "insert_right(a_tree, 7)\n",
    "print(a_tree)\n",
    "\n",
    "left_child = get_left_child(a_tree)\n",
    "print(left_child)\n",
    "\n",
    "set_root_val(left_child, 9)\n",
    "print(a_tree)\n",
    "insert_left(left_child, 11)\n",
    "print(a_tree)\n",
    "print(get_right_child(get_right_child(a_tree)))"
   ]
  },
  {
   "cell_type": "code",
   "execution_count": 18,
   "metadata": {},
   "outputs": [
    {
     "name": "stdout",
     "output_type": "stream",
     "text": [
      "['a', ['b', [], []], ['c', [], []]]\n",
      "['a', ['b', [], ['d', [], []]], ['c', [], []]]\n",
      "['a', ['b', [], ['d', [], []]], ['c', ['e', [], []], []]]\n",
      "['a', ['b', [], ['d', [], []]], ['c', ['f', ['e', [], []], []], []]]\n"
     ]
    }
   ],
   "source": [
    "new_tree = make_binary_tree(\"a\")\n",
    "insert_left(new_tree, \"b\")\n",
    "insert_right(new_tree, \"c\")\n",
    "print(new_tree)\n",
    "\n",
    "insert_right(get_left_child(new_tree), \"d\")\n",
    "print(new_tree)\n",
    "\n",
    "insert_left(get_right_child(new_tree), \"e\")\n",
    "print(new_tree)\n",
    "\n",
    "insert_left(get_right_child(new_tree), \"f\")\n",
    "print(new_tree)\n",
    "\n"
   ]
  }
 ],
 "metadata": {
  "interpreter": {
   "hash": "7e1998ff7f8aa20ada591c520b972326324e5ea05489af9e422744c7c09f6dad"
  },
  "kernelspec": {
   "display_name": "Python 3.10.1 64-bit",
   "language": "python",
   "name": "python3"
  },
  "language_info": {
   "codemirror_mode": {
    "name": "ipython",
    "version": 3
   },
   "file_extension": ".py",
   "mimetype": "text/x-python",
   "name": "python",
   "nbconvert_exporter": "python",
   "pygments_lexer": "ipython3",
   "version": "3.10.1"
  },
  "orig_nbformat": 4
 },
 "nbformat": 4,
 "nbformat_minor": 2
}
