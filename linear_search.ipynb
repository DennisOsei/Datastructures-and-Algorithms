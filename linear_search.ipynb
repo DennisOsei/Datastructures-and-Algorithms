{
 "cells": [
  {
   "cell_type": "code",
   "execution_count": 18,
   "metadata": {},
   "outputs": [
    {
     "name": "stdout",
     "output_type": "stream",
     "text": [
      "True\n",
      "False\n",
      "True\n",
      "True\n"
     ]
    }
   ],
   "source": [
    "# Time complexity = O(n)\n",
    "\n",
    "def linear_search(a_list, item):\n",
    "    pos = 0\n",
    "\n",
    "    while pos < len(a_list):\n",
    "        if a_list[pos] == item:\n",
    "            return True\n",
    "        else:\n",
    "            pos = pos + 1\n",
    "    \n",
    "    return False\n",
    "\n",
    "\n",
    "# unordered lists\n",
    "print(linear_search([1, 2, 32, 8, 17, 19, 42, 13, 0], 17))\n",
    "print(linear_search([1, 2, 32, 8, 17, 19, 42, 13, 0], 100))\n",
    "print(linear_search([1, 2, 32, 8, 17, 19, 42, 13, 0], 1))\n",
    "print(linear_search([1, 2, 32, 8, 17, 19, 42, 13, 0], 0))\n"
   ]
  },
  {
   "cell_type": "code",
   "execution_count": 19,
   "metadata": {},
   "outputs": [
    {
     "name": "stdout",
     "output_type": "stream",
     "text": [
      "True\n",
      "False\n",
      "True\n",
      "True\n"
     ]
    }
   ],
   "source": [
    "# Time Complexity = O(n)\n",
    "\n",
    "def linear_search(a_list, item):\n",
    "    for i in range(len(a_list)):\n",
    "        if a_list[i] == item:\n",
    "            return True\n",
    "    return False\n",
    "\n",
    "\n",
    "# unordered lists\n",
    "print(linear_search([1, 2, 32, 8, 17, 19, 42, 13, 0], 17))\n",
    "print(linear_search([1, 2, 32, 8, 17, 19, 42, 13, 0], 100))\n",
    "print(linear_search([1, 2, 32, 8, 17, 19, 42, 13, 0], 1))\n",
    "print(linear_search([1, 2, 32, 8, 17, 19, 42, 13, 0], 0))\n"
   ]
  },
  {
   "cell_type": "code",
   "execution_count": 20,
   "metadata": {},
   "outputs": [
    {
     "name": "stdout",
     "output_type": "stream",
     "text": [
      "True\n",
      "False\n",
      "True\n",
      "True\n"
     ]
    }
   ],
   "source": [
    "# Time Complexity = O(n)\n",
    "\n",
    "def linear_search(a_list, item):\n",
    "    for index, value in enumerate(a_list):\n",
    "        if a_list[index] == item:\n",
    "            return True\n",
    "\n",
    "    return False\n",
    "\n",
    "\n",
    "# unordered lists\n",
    "print(linear_search([1, 2, 32, 8, 17, 19, 42, 13, 0], 17))\n",
    "print(linear_search([1, 2, 32, 8, 17, 19, 42, 13, 0], 100))\n",
    "print(linear_search([1, 2, 32, 8, 17, 19, 42, 13, 0], 1))\n",
    "print(linear_search([1, 2, 32, 8, 17, 19, 42, 13, 0], 0))"
   ]
  },
  {
   "cell_type": "code",
   "execution_count": 21,
   "metadata": {},
   "outputs": [
    {
     "name": "stdout",
     "output_type": "stream",
     "text": [
      "True\n",
      "False\n",
      "False\n"
     ]
    }
   ],
   "source": [
    "# Time complexity is O(n)\n",
    "\n",
    "def ordered_linear_search(a_list, item):\n",
    "    for i in range(len(a_list)):\n",
    "        if a_list[i] == item:\n",
    "            return True\n",
    "        else:\n",
    "            if a_list[i] > item:\n",
    "                return False\n",
    "\n",
    "    return False\n",
    "\n",
    "\n",
    "# ordered lists\n",
    "print(ordered_linear_search([0, 1, 2, 8, 13, 17, 19, 32, 42], 8))\n",
    "print(ordered_linear_search([0, 1, 2, 8, 13, 17, 19, 32, 42], 15))\n",
    "print(ordered_linear_search([0, 1, 2, 8, 13, 17, 19, 32, 42], 100))\n",
    "\n"
   ]
  },
  {
   "cell_type": "code",
   "execution_count": null,
   "metadata": {},
   "outputs": [],
   "source": []
  }
 ],
 "metadata": {
  "interpreter": {
   "hash": "7e1998ff7f8aa20ada591c520b972326324e5ea05489af9e422744c7c09f6dad"
  },
  "kernelspec": {
   "display_name": "Python 3.10.1 64-bit",
   "language": "python",
   "name": "python3"
  },
  "language_info": {
   "codemirror_mode": {
    "name": "ipython",
    "version": 3
   },
   "file_extension": ".py",
   "mimetype": "text/x-python",
   "name": "python",
   "nbconvert_exporter": "python",
   "pygments_lexer": "ipython3",
   "version": "3.10.1"
  },
  "orig_nbformat": 4
 },
 "nbformat": 4,
 "nbformat_minor": 2
}
