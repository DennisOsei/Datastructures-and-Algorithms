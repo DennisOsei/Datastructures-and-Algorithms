{
 "cells": [
  {
   "cell_type": "code",
   "execution_count": null,
   "metadata": {},
   "outputs": [],
   "source": [
    "# Time Complexity is O(n)"
   ]
  },
  {
   "cell_type": "code",
   "execution_count": 1,
   "metadata": {},
   "outputs": [
    {
     "name": "stdout",
     "output_type": "stream",
     "text": [
      "After increments of size 4 the list is [20, 26, 44, 17, 54, 31, 93, 55, 77]\n",
      "After increments of size 2 the list is [20, 17, 44, 26, 54, 31, 77, 55, 93]\n",
      "After increments of size 1 the list is [17, 20, 26, 31, 44, 54, 55, 77, 93]\n",
      "[17, 20, 26, 31, 44, 54, 55, 77, 93]\n"
     ]
    }
   ],
   "source": [
    "def shell_sort(a_list):\n",
    "    sublist_count = len(a_list) // 2\n",
    "    while sublist_count > 0:\n",
    "        for pos_start in range(sublist_count):\n",
    "            gap_insertion_sort(a_list, pos_start, sublist_count)\n",
    "        print(\"After increments of size\", sublist_count, \"the list is\", a_list)\n",
    "        sublist_count = sublist_count // 2\n",
    "\n",
    "\n",
    "def gap_insertion_sort(a_list, start, gap):\n",
    "    for i in range(start + gap, len(a_list), gap):\n",
    "        cur_val = a_list[i]\n",
    "        cur_pos = i\n",
    "        while cur_pos >= gap and a_list[cur_pos - gap] > cur_val:\n",
    "            a_list[cur_pos] = a_list[cur_pos - gap]\n",
    "            cur_pos = cur_pos - gap\n",
    "        a_list[cur_pos] = cur_val\n",
    "\n",
    "\n",
    "a_list = [54, 26, 93, 17, 77, 31, 44, 55, 20]\n",
    "shell_sort(a_list)\n",
    "print(a_list)"
   ]
  },
  {
   "cell_type": "code",
   "execution_count": null,
   "metadata": {},
   "outputs": [],
   "source": []
  }
 ],
 "metadata": {
  "interpreter": {
   "hash": "7e1998ff7f8aa20ada591c520b972326324e5ea05489af9e422744c7c09f6dad"
  },
  "kernelspec": {
   "display_name": "Python 3.10.1 64-bit",
   "language": "python",
   "name": "python3"
  },
  "language_info": {
   "codemirror_mode": {
    "name": "ipython",
    "version": 3
   },
   "file_extension": ".py",
   "mimetype": "text/x-python",
   "name": "python",
   "nbconvert_exporter": "python",
   "pygments_lexer": "ipython3",
   "version": "3.10.1"
  },
  "orig_nbformat": 4
 },
 "nbformat": 4,
 "nbformat_minor": 2
}
